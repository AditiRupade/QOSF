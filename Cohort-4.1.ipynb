{
 "cells": [
  {
   "cell_type": "code",
   "execution_count": 80,
   "id": "2884c94c",
   "metadata": {},
   "outputs": [],
   "source": [
    "import qiskit\n",
    "from qiskit import QuantumCircuit, QuantumRegister, ClassicalRegister\n",
    "from qiskit import Aer, execute, transpile\n",
    "import math\n",
    "import random\n",
    "import numpy as np"
   ]
  },
  {
   "cell_type": "code",
   "execution_count": 81,
   "id": "7b11d789",
   "metadata": {},
   "outputs": [],
   "source": [
    "def adjacent_different(binary_format):\n",
    "    for i in range(0, len(binary_format)-1):\n",
    "        if(binary_format[i] == binary_format[i+1]):\n",
    "            return False\n",
    "    return True"
   ]
  },
  {
   "cell_type": "code",
   "execution_count": 82,
   "id": "935ae09f",
   "metadata": {},
   "outputs": [],
   "source": [
    "def bit_to_qubit(bit_list):\n",
    "    out = []\n",
    "    bit = max(bit_list).bit_length()\n",
    "    bit_form=\"{0:\"+str(bit)+\"b}\"\n",
    "    \n",
    "    for i in range(0,len(bit_list)):        \n",
    "        binary_format = bit_form.format(bit_list[i])\n",
    "        if adjacent_different(binary_format):\n",
    "            out.append(i)        \n",
    "            \n",
    "    qc = QuantumCircuit(len(bit_list))\n",
    "    for i in range(0,len(out)):\n",
    "        qc.h(out[i])\n",
    "    qc.save_statevector() \n",
    "    \n",
    "    sim_statevector = Aer.get_backend('aer_simulator_statevector')\n",
    "    qc = transpile(qc, sim_statevector)\n",
    "    result = sim_statevector.run(qc, shots=10).result()\n",
    "    q_state = result.get_statevector(qc)\n",
    "            \n",
    "    return q_state"
   ]
  },
  {
   "cell_type": "code",
   "execution_count": 83,
   "id": "0e23a0a8",
   "metadata": {},
   "outputs": [
    {
     "name": "stdout",
     "output_type": "stream",
     "text": [
      "[0.5+0.j 0. +0.j 0.5+0.j 0. +0.j 0. +0.j 0. +0.j 0. +0.j 0. +0.j 0.5+0.j\n",
      " 0. +0.j 0.5+0.j 0. +0.j 0. +0.j 0. +0.j 0. +0.j 0. +0.j]\n"
     ]
    }
   ],
   "source": [
    "bit_list = [1,5,7,10]\n",
    "qc = bit_to_qubit(bit_list)\n",
    "print(qc)"
   ]
  }
 ],
 "metadata": {
  "kernelspec": {
   "display_name": "Python 3 (ipykernel)",
   "language": "python",
   "name": "python3"
  },
  "language_info": {
   "codemirror_mode": {
    "name": "ipython",
    "version": 3
   },
   "file_extension": ".py",
   "mimetype": "text/x-python",
   "name": "python",
   "nbconvert_exporter": "python",
   "pygments_lexer": "ipython3",
   "version": "3.7.11"
  }
 },
 "nbformat": 4,
 "nbformat_minor": 5
}
